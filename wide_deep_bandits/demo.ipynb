{
  "nbformat": 4,
  "nbformat_minor": 0,
  "metadata": {
    "colab": {
      "name": "demo.ipynb",
      "provenance": [],
      "collapsed_sections": []
    },
    "kernelspec": {
      "name": "python3",
      "display_name": "Python 3"
    }
  },
  "cells": [
    {
      "cell_type": "markdown",
      "metadata": {
        "id": "ViP-uqIV-wvu"
      },
      "source": [
        "## Demo for Deep and Wide Bandits"
      ]
    },
    {
      "cell_type": "code",
      "metadata": {
        "id": "pQh2WlVftITW"
      },
      "source": [
        "import torch\n",
        "import torch.nn as nn\n",
        "import numpy as np\n",
        "from random import random\n",
        "from IPython.display import clear_output"
      ],
      "execution_count": 11,
      "outputs": []
    },
    {
      "cell_type": "code",
      "metadata": {
        "id": "Ur6JrgpIw1zj"
      },
      "source": [
        "#from google.colab import drive\n",
        "#drive.mount('/content/drive')"
      ],
      "execution_count": 12,
      "outputs": []
    },
    {
      "cell_type": "code",
      "metadata": {
        "id": "rbL9-TQItaOM"
      },
      "source": [
        "import sys\n",
        "## path to wide_deep_bandits.py and toy_problem_wu.py files\n",
        "path = '/content/drive/MyDrive/Fellowship_Deep_and_Wide_Bandit/Wide_and_Deep_Models/'\n",
        "sys.path.append(path)\n",
        "\n",
        "#from contextual_dataset_wu import ContextualDataset\n",
        "from toy_problem_wu import generate_dataframe\n",
        "from wide_deep_bandits import Wide_Deep_Bandits"
      ],
      "execution_count": 13,
      "outputs": []
    },
    {
      "cell_type": "markdown",
      "metadata": {
        "id": "Ur_5JBZYImbn"
      },
      "source": [
        "# Toy problem\n",
        "The space-bandits toy_problem divides users/customers into two groups\n",
        "\n",
        "Group 1: age ~25, ARPU ~100, user_id range 0 - 19, best action = 0\n",
        "\n",
        "Group 2: age ~45, ARPU ~50, user_id range 20 - 39, best action = 2\n"
      ]
    },
    {
      "cell_type": "code",
      "metadata": {
        "colab": {
          "base_uri": "https://localhost:8080/",
          "height": 204
        },
        "id": "G6LhYAIntpaS",
        "outputId": "2fb7df19-8810-49fe-fd5b-e3c6dba73948"
      },
      "source": [
        "## Get training data from toy_problem\n",
        "n_train_sample = 1000\n",
        "df = generate_dataframe(n_train_sample)\n",
        "context_cols = ['age','ARPU']\n",
        "action_col = ['action']\n",
        "reward_col = ['reward']\n",
        "user_id_col = ['user_id']\n",
        "df.head()"
      ],
      "execution_count": 14,
      "outputs": [
        {
          "output_type": "execute_result",
          "data": {
            "text/html": [
              "<div>\n",
              "<style scoped>\n",
              "    .dataframe tbody tr th:only-of-type {\n",
              "        vertical-align: middle;\n",
              "    }\n",
              "\n",
              "    .dataframe tbody tr th {\n",
              "        vertical-align: top;\n",
              "    }\n",
              "\n",
              "    .dataframe thead th {\n",
              "        text-align: right;\n",
              "    }\n",
              "</style>\n",
              "<table border=\"1\" class=\"dataframe\">\n",
              "  <thead>\n",
              "    <tr style=\"text-align: right;\">\n",
              "      <th></th>\n",
              "      <th>age</th>\n",
              "      <th>ARPU</th>\n",
              "      <th>action</th>\n",
              "      <th>reward</th>\n",
              "      <th>user_id</th>\n",
              "    </tr>\n",
              "  </thead>\n",
              "  <tbody>\n",
              "    <tr>\n",
              "      <th>0</th>\n",
              "      <td>25.0</td>\n",
              "      <td>100.524144</td>\n",
              "      <td>0</td>\n",
              "      <td>10</td>\n",
              "      <td>2</td>\n",
              "    </tr>\n",
              "    <tr>\n",
              "      <th>1</th>\n",
              "      <td>25.0</td>\n",
              "      <td>127.456575</td>\n",
              "      <td>0</td>\n",
              "      <td>10</td>\n",
              "      <td>10</td>\n",
              "    </tr>\n",
              "    <tr>\n",
              "      <th>2</th>\n",
              "      <td>21.0</td>\n",
              "      <td>80.620042</td>\n",
              "      <td>0</td>\n",
              "      <td>10</td>\n",
              "      <td>14</td>\n",
              "    </tr>\n",
              "    <tr>\n",
              "      <th>3</th>\n",
              "      <td>28.0</td>\n",
              "      <td>102.703556</td>\n",
              "      <td>2</td>\n",
              "      <td>0</td>\n",
              "      <td>13</td>\n",
              "    </tr>\n",
              "    <tr>\n",
              "      <th>4</th>\n",
              "      <td>47.0</td>\n",
              "      <td>21.652255</td>\n",
              "      <td>1</td>\n",
              "      <td>0</td>\n",
              "      <td>20</td>\n",
              "    </tr>\n",
              "  </tbody>\n",
              "</table>\n",
              "</div>"
            ],
            "text/plain": [
              "    age        ARPU  action  reward  user_id\n",
              "0  25.0  100.524144       0      10        2\n",
              "1  25.0  127.456575       0      10       10\n",
              "2  21.0   80.620042       0      10       14\n",
              "3  28.0  102.703556       2       0       13\n",
              "4  47.0   21.652255       1       0       20"
            ]
          },
          "metadata": {
            "tags": []
          },
          "execution_count": 14
        }
      ]
    },
    {
      "cell_type": "code",
      "metadata": {
        "colab": {
          "base_uri": "https://localhost:8080/"
        },
        "id": "YFbc2ubdtx3e",
        "outputId": "a782af3d-c916-4f21-beca-b4215ea456b8"
      },
      "source": [
        "num_actions = df[action_col].nunique()[0]\n",
        "num_features = len(context_cols)\n",
        "num_users = df[user_id_col].nunique()[0]\n",
        "print(\"Number of actions:\", num_actions)\n",
        "print(\"Number of features:\", num_features)\n",
        "print(\"Number of users:\", num_users)"
      ],
      "execution_count": 15,
      "outputs": [
        {
          "output_type": "stream",
          "text": [
            "Number of actions: 3\n",
            "Number of features: 2\n",
            "Number of users: 40\n"
          ],
          "name": "stdout"
        }
      ]
    },
    {
      "cell_type": "markdown",
      "metadata": {
        "id": "oCpd2ODzIhBa"
      },
      "source": [
        "# Train models"
      ]
    },
    {
      "cell_type": "code",
      "metadata": {
        "colab": {
          "base_uri": "https://localhost:8080/"
        },
        "id": "m3VeJoXj27zm",
        "outputId": "1fbea92d-f4cd-4f21-abcd-72596c7731a4"
      },
      "source": [
        "%%time\n",
        "\n",
        "### Train models \n",
        "demo_model_wide = Wide_Deep_Bandits(num_actions, num_features, wide_embed_size=num_users, model_type='wide') ## Wide only model\n",
        "demo_model_deep = Wide_Deep_Bandits(num_actions, num_features, wide_embed_size=num_users, model_type='deep') ## Deep only model\n",
        "demo_model_wide_deep = Wide_Deep_Bandits(num_actions, num_features, wide_embed_size=num_users, model_type='wide_deep') ## Wide + Deep model\n",
        "\n",
        "for i in range(n_train_sample):\n",
        "  test_context = df[context_cols].iloc[i].values\n",
        "  test_action = df[action_col].iloc[i].values\n",
        "  test_reward = df[reward_col].iloc[i].values\n",
        "  test_user_id = df[user_id_col].iloc[i].values\n",
        "\n",
        "  demo_model_wide.update(torch.tensor(df[user_id_col].iloc[i].values), test_context,test_action,test_reward)\n",
        "  demo_model_deep.update(torch.tensor(df[user_id_col].iloc[i].values), test_context,test_action,test_reward)\n",
        "  demo_model_wide_deep.update(torch.tensor(df[user_id_col].iloc[i].values), test_context,test_action,test_reward)\n",
        "\n",
        "clear_output()"
      ],
      "execution_count": 16,
      "outputs": [
        {
          "output_type": "stream",
          "text": [
            "CPU times: user 1min 16s, sys: 58.7 s, total: 2min 14s\n",
            "Wall time: 1min 8s\n"
          ],
          "name": "stdout"
        }
      ]
    },
    {
      "cell_type": "markdown",
      "metadata": {
        "id": "Fv42J7tn9Xuh"
      },
      "source": [
        "## Predict Best Action"
      ]
    },
    {
      "cell_type": "code",
      "metadata": {
        "id": "mPAqk6QC4tva"
      },
      "source": [
        "user_id = torch.tensor([10])\n",
        "context = torch.tensor([25.0, 100.0])\n",
        "\n",
        "## Possible methods\n",
        "## BLR - Use expected values of Bayesian Linear Regression\n",
        "## BLR_TS - Use Bayesian Linear Regression + Thompson sampling\n",
        "## forward - Use forward pass of neural networks\n",
        "method = 'forward'\n",
        "\n",
        "action_wide = demo_model_wide.action(user_id, context, method=method)\n",
        "action_deep = demo_model_deep.action(user_id, context, method=method)\n",
        "action_wide_deep = demo_model_wide_deep.action(user_id, context, method=method)"
      ],
      "execution_count": 17,
      "outputs": []
    },
    {
      "cell_type": "code",
      "metadata": {
        "colab": {
          "base_uri": "https://localhost:8080/"
        },
        "id": "9SemR8c35v90",
        "outputId": "90110c78-ef5e-49a8-d3a3-7d6d9ae26622"
      },
      "source": [
        "print(\"Wide model predicts action: \", action_wide)\n",
        "print(\"Deep model predicts action: \", action_deep)\n",
        "print(\"Wide + Deep model predicts action: \", action_wide_deep)"
      ],
      "execution_count": 18,
      "outputs": [
        {
          "output_type": "stream",
          "text": [
            "Wide model predicts action:  0\n",
            "Deep model predicts action:  0\n",
            "Wide + Deep model predicts action:  0\n"
          ],
          "name": "stdout"
        }
      ]
    },
    {
      "cell_type": "markdown",
      "metadata": {
        "id": "Yhk-Bk2m9d3f"
      },
      "source": [
        "## Get Expected Rewards for Each Action"
      ]
    },
    {
      "cell_type": "code",
      "metadata": {
        "id": "NbXzA0tA7sg4"
      },
      "source": [
        "## Possible methods\n",
        "## BLR - Expected values of Bayesian Linear Regression\n",
        "## forward - Forward pass of neural networks\n",
        "method = 'BLR'\n",
        "\n",
        "expected_values_wide = demo_model_wide.expected_values(user_id, context, method=method)\n",
        "expected_values_deep = demo_model_deep.expected_values(user_id, context, method=method)\n",
        "expected_values_wide_deep = demo_model_wide_deep.expected_values(user_id, context, method=method)"
      ],
      "execution_count": null,
      "outputs": []
    },
    {
      "cell_type": "code",
      "metadata": {
        "colab": {
          "base_uri": "https://localhost:8080/"
        },
        "id": "032NKfUH9HBE",
        "outputId": "b8e7870e-8516-48f5-d83a-732c40a1e64b"
      },
      "source": [
        "print(\"Wide model expected values: \", expected_values_wide)\n",
        "print(\"Deep model expected values: \", expected_values_deep)\n",
        "print(\"Wide + Deep model expected values: \", expected_values_wide_deep)"
      ],
      "execution_count": 22,
      "outputs": [
        {
          "output_type": "stream",
          "text": [
            "Wide model expected values:  [ 8.84334732  1.46878973 -0.20481975]\n",
            "Deep model expected values:  [12.26969536  4.71722552  1.69028515]\n",
            "Wide + Deep model expected values:  [  8.11236442  11.44496876 -51.70120539]\n"
          ],
          "name": "stdout"
        }
      ]
    }
  ]
}
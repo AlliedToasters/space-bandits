{
  "nbformat": 4,
  "nbformat_minor": 0,
  "metadata": {
    "colab": {
      "name": "demo of using Wide_Deep model with ContextualBandit.ipynb",
      "provenance": [],
      "collapsed_sections": []
    },
    "kernelspec": {
      "name": "python3",
      "display_name": "Python 3"
    },
    "accelerator": "GPU"
  },
  "cells": [
    {
      "cell_type": "markdown",
      "metadata": {
        "id": "T4msNAfHwsAK"
      },
      "source": [
        "# A demo of using the Wide_Deep in ContextualBandit algorithm\r\n",
        "\r\n",
        "### Summary of the progress:\r\n",
        "- Randomly choose 100000 data points from the data snippet. \r\n",
        "- Construct the contexts and the reward vectors.\r\n",
        "- Creat a wide and deep neuron netwrok using Wide_Deep Class\r\n",
        "- Run the ContextualBandit with the wide-and-deep model. For every 1000 contexts seen, the following steps are done:\r\n",
        "    1. Run the algorithm(in this example it is LinUCB), store the 1000 seen rewards together with their contexts.\r\n",
        "    2. Then train the wide and deep model on these 1000 data points for 10 epoches.\r\n",
        "    3. Then update the algorithm's parameters (For LinUCB, they are A matrix and B vector) according to all the historical data points in order to keep the algorithm's knowledge by far.\r\n",
        "    4. Output the time spent on this 1000 data points. \r\n",
        "\r\n",
        "- finally plot the cumulative rewards, and print the accuracy."
      ]
    },
    {
      "cell_type": "code",
      "metadata": {
        "id": "rhKBSWlPeQjF"
      },
      "source": [
        "from Wide_and_Deep_model import Wide_Deep\r\n",
        "from Contextual_bandits import ContextualBandit\r\n",
        "from algorithms import LinUCB"
      ],
      "execution_count": 2,
      "outputs": []
    },
    {
      "cell_type": "code",
      "metadata": {
        "colab": {
          "base_uri": "https://localhost:8080/",
          "height": 204
        },
        "id": "WkoDW55iVEZf",
        "outputId": "4393e927-7bce-4488-c1b2-c150072f7a6a"
      },
      "source": [
        "import pandas as pd\r\n",
        "import numpy as np\r\n",
        "file_path = \"/content/drive/MyDrive/Fellowship.AI/P1_bandit/data_snippet.csv\"\r\n",
        "df = pd.read_csv(file_path)\r\n",
        "df.head()"
      ],
      "execution_count": 3,
      "outputs": [
        {
          "output_type": "execute_result",
          "data": {
            "text/html": [
              "<div>\n",
              "<style scoped>\n",
              "    .dataframe tbody tr th:only-of-type {\n",
              "        vertical-align: middle;\n",
              "    }\n",
              "\n",
              "    .dataframe tbody tr th {\n",
              "        vertical-align: top;\n",
              "    }\n",
              "\n",
              "    .dataframe thead th {\n",
              "        text-align: right;\n",
              "    }\n",
              "</style>\n",
              "<table border=\"1\" class=\"dataframe\">\n",
              "  <thead>\n",
              "    <tr style=\"text-align: right;\">\n",
              "      <th></th>\n",
              "      <th>riid</th>\n",
              "      <th>opened</th>\n",
              "      <th>rev_3dv2</th>\n",
              "      <th>unsub</th>\n",
              "      <th>campaign_type</th>\n",
              "      <th>retention_score</th>\n",
              "      <th>recency_score</th>\n",
              "      <th>frequency_score</th>\n",
              "    </tr>\n",
              "  </thead>\n",
              "  <tbody>\n",
              "    <tr>\n",
              "      <th>0</th>\n",
              "      <td>242697842</td>\n",
              "      <td>1</td>\n",
              "      <td>75.00</td>\n",
              "      <td>0</td>\n",
              "      <td>Dedicated</td>\n",
              "      <td>14.000000</td>\n",
              "      <td>1.637422</td>\n",
              "      <td>31</td>\n",
              "    </tr>\n",
              "    <tr>\n",
              "      <th>1</th>\n",
              "      <td>275469002</td>\n",
              "      <td>1</td>\n",
              "      <td>75.00</td>\n",
              "      <td>0</td>\n",
              "      <td>Dedicated</td>\n",
              "      <td>2.800000</td>\n",
              "      <td>0.000000</td>\n",
              "      <td>0</td>\n",
              "    </tr>\n",
              "    <tr>\n",
              "      <th>2</th>\n",
              "      <td>4319542</td>\n",
              "      <td>1</td>\n",
              "      <td>19.98</td>\n",
              "      <td>0</td>\n",
              "      <td>Dedicated</td>\n",
              "      <td>1.000000</td>\n",
              "      <td>0.084239</td>\n",
              "      <td>4</td>\n",
              "    </tr>\n",
              "    <tr>\n",
              "      <th>3</th>\n",
              "      <td>166170102</td>\n",
              "      <td>1</td>\n",
              "      <td>19.98</td>\n",
              "      <td>0</td>\n",
              "      <td>Dedicated</td>\n",
              "      <td>0.756757</td>\n",
              "      <td>0.010870</td>\n",
              "      <td>1</td>\n",
              "    </tr>\n",
              "    <tr>\n",
              "      <th>4</th>\n",
              "      <td>6998482</td>\n",
              "      <td>1</td>\n",
              "      <td>150.00</td>\n",
              "      <td>0</td>\n",
              "      <td>Dedicated</td>\n",
              "      <td>28.000000</td>\n",
              "      <td>1.845885</td>\n",
              "      <td>18</td>\n",
              "    </tr>\n",
              "  </tbody>\n",
              "</table>\n",
              "</div>"
            ],
            "text/plain": [
              "        riid  opened  rev_3dv2  ...  retention_score recency_score  frequency_score\n",
              "0  242697842       1     75.00  ...        14.000000      1.637422               31\n",
              "1  275469002       1     75.00  ...         2.800000      0.000000                0\n",
              "2    4319542       1     19.98  ...         1.000000      0.084239                4\n",
              "3  166170102       1     19.98  ...         0.756757      0.010870                1\n",
              "4    6998482       1    150.00  ...        28.000000      1.845885               18\n",
              "\n",
              "[5 rows x 8 columns]"
            ]
          },
          "metadata": {
            "tags": []
          },
          "execution_count": 3
        }
      ]
    },
    {
      "cell_type": "code",
      "metadata": {
        "colab": {
          "base_uri": "https://localhost:8080/"
        },
        "id": "VY72wwmCZZOX",
        "outputId": "8f5f70bf-5229-42f5-c849-bbfaeb37d547"
      },
      "source": [
        "len(df)"
      ],
      "execution_count": 4,
      "outputs": [
        {
          "output_type": "execute_result",
          "data": {
            "text/plain": [
              "6240490"
            ]
          },
          "metadata": {
            "tags": []
          },
          "execution_count": 4
        }
      ]
    },
    {
      "cell_type": "code",
      "metadata": {
        "id": "Q26m4nfHi0Y5"
      },
      "source": [
        "num_data = 10000\r\n",
        "indices = np.random.choice(len(df),size=num_data)\r\n",
        "df_subset = df.iloc[indices]"
      ],
      "execution_count": 5,
      "outputs": []
    },
    {
      "cell_type": "code",
      "metadata": {
        "id": "aBmGyVObZC_F"
      },
      "source": [
        "vocab = {riid:i for i, riid in enumerate(df_subset.riid.unique())}"
      ],
      "execution_count": 6,
      "outputs": []
    },
    {
      "cell_type": "code",
      "metadata": {
        "colab": {
          "base_uri": "https://localhost:8080/"
        },
        "id": "4MohzyBqe17A",
        "outputId": "cf926ea2-a556-4907-c974-852defacae7a"
      },
      "source": [
        "len(vocab)"
      ],
      "execution_count": 7,
      "outputs": [
        {
          "output_type": "execute_result",
          "data": {
            "text/plain": [
              "9842"
            ]
          },
          "metadata": {
            "tags": []
          },
          "execution_count": 7
        }
      ]
    },
    {
      "cell_type": "code",
      "metadata": {
        "id": "SVyDfnE2ZTz_"
      },
      "source": [
        "user_ids = df_subset.riid.apply(lambda x:vocab[x])\r\n",
        "c_t = pd.get_dummies(df_subset.campaign_type)"
      ],
      "execution_count": 8,
      "outputs": []
    },
    {
      "cell_type": "code",
      "metadata": {
        "id": "AeRlUSQ3Z8kh"
      },
      "source": [
        "datasource = pd.DataFrame()\r\n",
        "datasource['user_ids'] = user_ids"
      ],
      "execution_count": 9,
      "outputs": []
    },
    {
      "cell_type": "code",
      "metadata": {
        "id": "kwfGYpUKbMtf"
      },
      "source": [
        "datasource = pd.concat((datasource, c_t),axis=1)"
      ],
      "execution_count": 10,
      "outputs": []
    },
    {
      "cell_type": "code",
      "metadata": {
        "id": "VH0a-jHqbaHv"
      },
      "source": [
        "datasource[[\"retention_score\",\t\"recency_score\",\t\"frequency_score\"]] = df_subset[[\"retention_score\",\t\"recency_score\",\t\"frequency_score\"]]"
      ],
      "execution_count": 11,
      "outputs": []
    },
    {
      "cell_type": "code",
      "metadata": {
        "colab": {
          "base_uri": "https://localhost:8080/",
          "height": 436
        },
        "id": "MQrrwcfubqqk",
        "outputId": "438961cc-5a29-49de-c5bd-bb31f71e1dab"
      },
      "source": [
        "datasource"
      ],
      "execution_count": 12,
      "outputs": [
        {
          "output_type": "execute_result",
          "data": {
            "text/html": [
              "<div>\n",
              "<style scoped>\n",
              "    .dataframe tbody tr th:only-of-type {\n",
              "        vertical-align: middle;\n",
              "    }\n",
              "\n",
              "    .dataframe tbody tr th {\n",
              "        vertical-align: top;\n",
              "    }\n",
              "\n",
              "    .dataframe thead th {\n",
              "        text-align: right;\n",
              "    }\n",
              "</style>\n",
              "<table border=\"1\" class=\"dataframe\">\n",
              "  <thead>\n",
              "    <tr style=\"text-align: right;\">\n",
              "      <th></th>\n",
              "      <th>user_ids</th>\n",
              "      <th>Brand</th>\n",
              "      <th>Collection</th>\n",
              "      <th>Core</th>\n",
              "      <th>Dedicated</th>\n",
              "      <th>Innovation Spotlight</th>\n",
              "      <th>New Arrivals</th>\n",
              "      <th>Other</th>\n",
              "      <th>Product Spotlight</th>\n",
              "      <th>Replen</th>\n",
              "      <th>Tops</th>\n",
              "      <th>Trend</th>\n",
              "      <th>retention_score</th>\n",
              "      <th>recency_score</th>\n",
              "      <th>frequency_score</th>\n",
              "    </tr>\n",
              "  </thead>\n",
              "  <tbody>\n",
              "    <tr>\n",
              "      <th>2034712</th>\n",
              "      <td>0</td>\n",
              "      <td>0</td>\n",
              "      <td>0</td>\n",
              "      <td>0</td>\n",
              "      <td>0</td>\n",
              "      <td>0</td>\n",
              "      <td>1</td>\n",
              "      <td>0</td>\n",
              "      <td>0</td>\n",
              "      <td>0</td>\n",
              "      <td>0</td>\n",
              "      <td>0</td>\n",
              "      <td>28.000000</td>\n",
              "      <td>4.258540</td>\n",
              "      <td>61</td>\n",
              "    </tr>\n",
              "    <tr>\n",
              "      <th>2709653</th>\n",
              "      <td>1</td>\n",
              "      <td>1</td>\n",
              "      <td>0</td>\n",
              "      <td>0</td>\n",
              "      <td>0</td>\n",
              "      <td>0</td>\n",
              "      <td>0</td>\n",
              "      <td>0</td>\n",
              "      <td>0</td>\n",
              "      <td>0</td>\n",
              "      <td>0</td>\n",
              "      <td>0</td>\n",
              "      <td>28.000000</td>\n",
              "      <td>3.684200</td>\n",
              "      <td>74</td>\n",
              "    </tr>\n",
              "    <tr>\n",
              "      <th>1159129</th>\n",
              "      <td>2</td>\n",
              "      <td>0</td>\n",
              "      <td>0</td>\n",
              "      <td>0</td>\n",
              "      <td>0</td>\n",
              "      <td>1</td>\n",
              "      <td>0</td>\n",
              "      <td>0</td>\n",
              "      <td>0</td>\n",
              "      <td>0</td>\n",
              "      <td>0</td>\n",
              "      <td>0</td>\n",
              "      <td>1.000000</td>\n",
              "      <td>0.084239</td>\n",
              "      <td>4</td>\n",
              "    </tr>\n",
              "    <tr>\n",
              "      <th>4582279</th>\n",
              "      <td>3</td>\n",
              "      <td>0</td>\n",
              "      <td>0</td>\n",
              "      <td>0</td>\n",
              "      <td>1</td>\n",
              "      <td>0</td>\n",
              "      <td>0</td>\n",
              "      <td>0</td>\n",
              "      <td>0</td>\n",
              "      <td>0</td>\n",
              "      <td>0</td>\n",
              "      <td>0</td>\n",
              "      <td>2.333333</td>\n",
              "      <td>0.202446</td>\n",
              "      <td>13</td>\n",
              "    </tr>\n",
              "    <tr>\n",
              "      <th>2873522</th>\n",
              "      <td>4</td>\n",
              "      <td>0</td>\n",
              "      <td>0</td>\n",
              "      <td>0</td>\n",
              "      <td>0</td>\n",
              "      <td>0</td>\n",
              "      <td>1</td>\n",
              "      <td>0</td>\n",
              "      <td>0</td>\n",
              "      <td>0</td>\n",
              "      <td>0</td>\n",
              "      <td>0</td>\n",
              "      <td>28.000000</td>\n",
              "      <td>4.194099</td>\n",
              "      <td>22</td>\n",
              "    </tr>\n",
              "    <tr>\n",
              "      <th>...</th>\n",
              "      <td>...</td>\n",
              "      <td>...</td>\n",
              "      <td>...</td>\n",
              "      <td>...</td>\n",
              "      <td>...</td>\n",
              "      <td>...</td>\n",
              "      <td>...</td>\n",
              "      <td>...</td>\n",
              "      <td>...</td>\n",
              "      <td>...</td>\n",
              "      <td>...</td>\n",
              "      <td>...</td>\n",
              "      <td>...</td>\n",
              "      <td>...</td>\n",
              "      <td>...</td>\n",
              "    </tr>\n",
              "    <tr>\n",
              "      <th>1086996</th>\n",
              "      <td>9837</td>\n",
              "      <td>0</td>\n",
              "      <td>0</td>\n",
              "      <td>0</td>\n",
              "      <td>0</td>\n",
              "      <td>0</td>\n",
              "      <td>0</td>\n",
              "      <td>0</td>\n",
              "      <td>0</td>\n",
              "      <td>0</td>\n",
              "      <td>0</td>\n",
              "      <td>1</td>\n",
              "      <td>9.333333</td>\n",
              "      <td>0.582298</td>\n",
              "      <td>5</td>\n",
              "    </tr>\n",
              "    <tr>\n",
              "      <th>1570064</th>\n",
              "      <td>9838</td>\n",
              "      <td>0</td>\n",
              "      <td>0</td>\n",
              "      <td>0</td>\n",
              "      <td>0</td>\n",
              "      <td>1</td>\n",
              "      <td>0</td>\n",
              "      <td>0</td>\n",
              "      <td>0</td>\n",
              "      <td>0</td>\n",
              "      <td>0</td>\n",
              "      <td>0</td>\n",
              "      <td>14.000000</td>\n",
              "      <td>1.071234</td>\n",
              "      <td>34</td>\n",
              "    </tr>\n",
              "    <tr>\n",
              "      <th>1831478</th>\n",
              "      <td>9839</td>\n",
              "      <td>0</td>\n",
              "      <td>0</td>\n",
              "      <td>0</td>\n",
              "      <td>0</td>\n",
              "      <td>0</td>\n",
              "      <td>0</td>\n",
              "      <td>0</td>\n",
              "      <td>0</td>\n",
              "      <td>0</td>\n",
              "      <td>0</td>\n",
              "      <td>1</td>\n",
              "      <td>1.272727</td>\n",
              "      <td>0.052989</td>\n",
              "      <td>3</td>\n",
              "    </tr>\n",
              "    <tr>\n",
              "      <th>4035406</th>\n",
              "      <td>9840</td>\n",
              "      <td>0</td>\n",
              "      <td>0</td>\n",
              "      <td>0</td>\n",
              "      <td>0</td>\n",
              "      <td>0</td>\n",
              "      <td>0</td>\n",
              "      <td>0</td>\n",
              "      <td>1</td>\n",
              "      <td>0</td>\n",
              "      <td>0</td>\n",
              "      <td>0</td>\n",
              "      <td>9.333333</td>\n",
              "      <td>0.331716</td>\n",
              "      <td>9</td>\n",
              "    </tr>\n",
              "    <tr>\n",
              "      <th>2634900</th>\n",
              "      <td>9841</td>\n",
              "      <td>0</td>\n",
              "      <td>0</td>\n",
              "      <td>0</td>\n",
              "      <td>0</td>\n",
              "      <td>1</td>\n",
              "      <td>0</td>\n",
              "      <td>0</td>\n",
              "      <td>0</td>\n",
              "      <td>0</td>\n",
              "      <td>0</td>\n",
              "      <td>0</td>\n",
              "      <td>2.800000</td>\n",
              "      <td>0.508152</td>\n",
              "      <td>28</td>\n",
              "    </tr>\n",
              "  </tbody>\n",
              "</table>\n",
              "<p>10000 rows × 15 columns</p>\n",
              "</div>"
            ],
            "text/plain": [
              "         user_ids  Brand  ...  recency_score  frequency_score\n",
              "2034712         0      0  ...       4.258540               61\n",
              "2709653         1      1  ...       3.684200               74\n",
              "1159129         2      0  ...       0.084239                4\n",
              "4582279         3      0  ...       0.202446               13\n",
              "2873522         4      0  ...       4.194099               22\n",
              "...           ...    ...  ...            ...              ...\n",
              "1086996      9837      0  ...       0.582298                5\n",
              "1570064      9838      0  ...       1.071234               34\n",
              "1831478      9839      0  ...       0.052989                3\n",
              "4035406      9840      0  ...       0.331716                9\n",
              "2634900      9841      0  ...       0.508152               28\n",
              "\n",
              "[10000 rows x 15 columns]"
            ]
          },
          "metadata": {
            "tags": []
          },
          "execution_count": 12
        }
      ]
    },
    {
      "cell_type": "code",
      "metadata": {
        "id": "ghLBFVtpbwHx"
      },
      "source": [
        "rewardsource = pd.DataFrame()\r\n",
        "rewardsource[\"reward_send\"] = df_subset.opened * 1.2 - 0.2 + (df_subset.rev_3dv2 > 0) + df_subset.rev_3dv2/75.0 - 5.0*df_subset.unsub\r\n",
        "rewardsource[\"reward_not_send\"] = -rewardsource[\"reward_send\"]"
      ],
      "execution_count": 13,
      "outputs": []
    },
    {
      "cell_type": "code",
      "metadata": {
        "colab": {
          "base_uri": "https://localhost:8080/",
          "height": 419
        },
        "id": "YsgwSNeFd3Qj",
        "outputId": "2b0ed3d7-82c2-4d9b-fc7e-33cd5ffa9e61"
      },
      "source": [
        "rewardsource"
      ],
      "execution_count": 14,
      "outputs": [
        {
          "output_type": "execute_result",
          "data": {
            "text/html": [
              "<div>\n",
              "<style scoped>\n",
              "    .dataframe tbody tr th:only-of-type {\n",
              "        vertical-align: middle;\n",
              "    }\n",
              "\n",
              "    .dataframe tbody tr th {\n",
              "        vertical-align: top;\n",
              "    }\n",
              "\n",
              "    .dataframe thead th {\n",
              "        text-align: right;\n",
              "    }\n",
              "</style>\n",
              "<table border=\"1\" class=\"dataframe\">\n",
              "  <thead>\n",
              "    <tr style=\"text-align: right;\">\n",
              "      <th></th>\n",
              "      <th>reward_send</th>\n",
              "      <th>reward_not_send</th>\n",
              "    </tr>\n",
              "  </thead>\n",
              "  <tbody>\n",
              "    <tr>\n",
              "      <th>2034712</th>\n",
              "      <td>1.0</td>\n",
              "      <td>-1.0</td>\n",
              "    </tr>\n",
              "    <tr>\n",
              "      <th>2709653</th>\n",
              "      <td>1.0</td>\n",
              "      <td>-1.0</td>\n",
              "    </tr>\n",
              "    <tr>\n",
              "      <th>1159129</th>\n",
              "      <td>1.0</td>\n",
              "      <td>-1.0</td>\n",
              "    </tr>\n",
              "    <tr>\n",
              "      <th>4582279</th>\n",
              "      <td>-0.2</td>\n",
              "      <td>0.2</td>\n",
              "    </tr>\n",
              "    <tr>\n",
              "      <th>2873522</th>\n",
              "      <td>1.0</td>\n",
              "      <td>-1.0</td>\n",
              "    </tr>\n",
              "    <tr>\n",
              "      <th>...</th>\n",
              "      <td>...</td>\n",
              "      <td>...</td>\n",
              "    </tr>\n",
              "    <tr>\n",
              "      <th>1086996</th>\n",
              "      <td>1.0</td>\n",
              "      <td>-1.0</td>\n",
              "    </tr>\n",
              "    <tr>\n",
              "      <th>1570064</th>\n",
              "      <td>1.0</td>\n",
              "      <td>-1.0</td>\n",
              "    </tr>\n",
              "    <tr>\n",
              "      <th>1831478</th>\n",
              "      <td>1.0</td>\n",
              "      <td>-1.0</td>\n",
              "    </tr>\n",
              "    <tr>\n",
              "      <th>4035406</th>\n",
              "      <td>-0.2</td>\n",
              "      <td>0.2</td>\n",
              "    </tr>\n",
              "    <tr>\n",
              "      <th>2634900</th>\n",
              "      <td>1.0</td>\n",
              "      <td>-1.0</td>\n",
              "    </tr>\n",
              "  </tbody>\n",
              "</table>\n",
              "<p>10000 rows × 2 columns</p>\n",
              "</div>"
            ],
            "text/plain": [
              "         reward_send  reward_not_send\n",
              "2034712          1.0             -1.0\n",
              "2709653          1.0             -1.0\n",
              "1159129          1.0             -1.0\n",
              "4582279         -0.2              0.2\n",
              "2873522          1.0             -1.0\n",
              "...              ...              ...\n",
              "1086996          1.0             -1.0\n",
              "1570064          1.0             -1.0\n",
              "1831478          1.0             -1.0\n",
              "4035406         -0.2              0.2\n",
              "2634900          1.0             -1.0\n",
              "\n",
              "[10000 rows x 2 columns]"
            ]
          },
          "metadata": {
            "tags": []
          },
          "execution_count": 14
        }
      ]
    },
    {
      "cell_type": "code",
      "metadata": {
        "id": "swLZ47qcgFSr"
      },
      "source": [
        "opt_a = (rewardsource['reward_send'] < 0).astype(int)"
      ],
      "execution_count": 15,
      "outputs": []
    },
    {
      "cell_type": "code",
      "metadata": {
        "colab": {
          "base_uri": "https://localhost:8080/"
        },
        "id": "DgAqyRBUgdbE",
        "outputId": "df2f8f50-05f8-40f1-d54e-1e7c88fb0c36"
      },
      "source": [
        "opt_a"
      ],
      "execution_count": 16,
      "outputs": [
        {
          "output_type": "execute_result",
          "data": {
            "text/plain": [
              "2034712    0\n",
              "2709653    0\n",
              "1159129    0\n",
              "4582279    1\n",
              "2873522    0\n",
              "          ..\n",
              "1086996    0\n",
              "1570064    0\n",
              "1831478    0\n",
              "4035406    1\n",
              "2634900    0\n",
              "Name: reward_send, Length: 10000, dtype: int64"
            ]
          },
          "metadata": {
            "tags": []
          },
          "execution_count": 16
        }
      ]
    },
    {
      "cell_type": "code",
      "metadata": {
        "colab": {
          "base_uri": "https://localhost:8080/"
        },
        "id": "G6H_J1u-kuQy",
        "outputId": "61bd3b6d-c48e-4d3c-ef1e-b225f4cb9139"
      },
      "source": [
        "import torch\r\n",
        "import torch.nn as nn\r\n",
        "import numpy as np\r\n",
        "import torch.optim as optim\r\n",
        "import time\r\n",
        "\r\n",
        "device = \"cuda:0\" if torch.cuda.is_available() else \"cpu\"\r\n",
        "print(\"training on device: \", device)"
      ],
      "execution_count": 24,
      "outputs": [
        {
          "output_type": "stream",
          "text": [
            "training on device:  cuda:0\n"
          ],
          "name": "stdout"
        }
      ]
    },
    {
      "cell_type": "code",
      "metadata": {
        "id": "9ljb3WWMeUKg",
        "colab": {
          "base_uri": "https://localhost:8080/"
        },
        "outputId": "9fad6548-8ed6-4803-a74c-d2d211a6ad62"
      },
      "source": [
        "# model Hyper parameters\r\n",
        "wide_dim = 1\r\n",
        "deep_dim = 14\r\n",
        "action_dim = 2\r\n",
        "embeddings={'wide':[['user_id', len(vocab), 64]]}\r\n",
        "\r\n",
        "model = Wide_Deep(wide_dim, deep_dim, action_dim, embeddings=embeddings, deep_neurons=[128, 64]).to(device)\r\n",
        "\r\n",
        "optimizer = optim.Adam(model.parameters(), lr=0.005)\r\n",
        "loss_func = nn.MSELoss()\r\n",
        "algorithm = LinUCB(model.z_dim, model.action_dim, delta=0.05)\r\n",
        "CB = ContextualBandit(device, model, optimizer, loss_func, algorithm)\r\n",
        "\r\n",
        "# training Hyper parameters\r\n",
        "train_batch_size = 64\r\n",
        "num_epoch = 10\r\n",
        "train_every = 1000\r\n",
        "\r\n",
        "# inputs\r\n",
        "contexts = datasource.values\r\n",
        "reward_vectors = rewardsource.values\r\n",
        "opt_actions = opt_a.values\r\n",
        "\r\n",
        "#start runing the algorithm\r\n",
        "train_start_index = 0\r\n",
        "start_time = time.time()\r\n",
        "pred_actions = []\r\n",
        "s_time = start_time\r\n",
        "for t in range(num_data):\r\n",
        "    context_source = np.array([contexts[t] for i in range(model.action_dim)])\r\n",
        "    reward_source = reward_vectors[t]\r\n",
        "    pred_a = CB.run(context_source, reward_source)\r\n",
        "    pred_actions.append(pred_a)\r\n",
        "    if (t+1) % train_every == 0:\r\n",
        "        CB.train(start_index=train_start_index, batch_size=train_batch_size, num_epoch=num_epoch)\r\n",
        "        train_start_index = t + 1\r\n",
        "        print(\"number of data seen: {:>6} \\t time used for previous {} data: {:.3f} sec\".format(t+1, train_every, (time.time() - s_time)))\r\n",
        "        s_time = time.time()\r\n",
        "end_time = time.time()\r\n",
        "total_time = end_time - start_time\r\n",
        "print(\"Total time used: {} hrs {} min {} sec\".format(int(total_time//3600), int((total_time%3600)//60), total_time%60))\r\n",
        "\r\n",
        "cum_rewards_pred_action = []\r\n",
        "cum_rewards_opt_action = []\r\n",
        "p_i = 0\r\n",
        "o_i = 0\r\n",
        "for i in range(num_data):\r\n",
        "    p_i += reward_vectors[i][pred_actions[i]]\r\n",
        "    o_i += reward_vectors[i][opt_actions[i]]\r\n",
        "    cum_rewards_pred_action.append(p_i)\r\n",
        "    cum_rewards_opt_action.append(o_i)"
      ],
      "execution_count": 25,
      "outputs": [
        {
          "output_type": "stream",
          "text": [
            "This is a wide and deep model.\n",
            "number of data seen:   1000 \t time used for previous 1000 data: 4.679 sec\n",
            "number of data seen:   2000 \t time used for previous 1000 data: 5.245 sec\n",
            "number of data seen:   3000 \t time used for previous 1000 data: 6.051 sec\n",
            "number of data seen:   4000 \t time used for previous 1000 data: 6.860 sec\n",
            "number of data seen:   5000 \t time used for previous 1000 data: 7.590 sec\n",
            "number of data seen:   6000 \t time used for previous 1000 data: 8.266 sec\n",
            "number of data seen:   7000 \t time used for previous 1000 data: 9.185 sec\n",
            "number of data seen:   8000 \t time used for previous 1000 data: 9.799 sec\n",
            "number of data seen:   9000 \t time used for previous 1000 data: 10.730 sec\n",
            "number of data seen:  10000 \t time used for previous 1000 data: 11.378 sec\n",
            "Total time used: 0 hrs 1 min 19.785202503204346 sec\n"
          ],
          "name": "stdout"
        }
      ]
    },
    {
      "cell_type": "code",
      "metadata": {
        "id": "15SjzxXHeV0q",
        "colab": {
          "base_uri": "https://localhost:8080/",
          "height": 279
        },
        "outputId": "b60ba4ec-346b-4a6f-ac49-c0759613c44c"
      },
      "source": [
        "import matplotlib.pyplot as plt\r\n",
        "plt.plot(cum_rewards_pred_action, label = 'cum_rewards_pred_action')\r\n",
        "plt.plot(cum_rewards_opt_action, label = 'cum_rewards_opt_action')\r\n",
        "plt.legend()\r\n",
        "plt.xlabel('num data')\r\n",
        "_ = plt.ylabel('cum rewards')"
      ],
      "execution_count": 26,
      "outputs": [
        {
          "output_type": "display_data",
          "data": {
            "image/png": "[encoded data removed]",
            "text/plain": [
              "<Figure size 432x288 with 1 Axes>"
            ]
          },
          "metadata": {
            "tags": [],
            "needs_background": "light"
          }
        }
      ]
    },
    {
      "cell_type": "code",
      "metadata": {
        "id": "85a0LauFeXQP",
        "colab": {
          "base_uri": "https://localhost:8080/"
        },
        "outputId": "821218e2-b5ca-4825-a64f-8f570357de20"
      },
      "source": [
        "np.sum(pred_actions == opt_actions)/num_data"
      ],
      "execution_count": 27,
      "outputs": [
        {
          "output_type": "execute_result",
          "data": {
            "text/plain": [
              "0.7003"
            ]
          },
          "metadata": {
            "tags": []
          },
          "execution_count": 27
        }
      ]
    },
    {
      "cell_type": "code",
      "metadata": {
        "id": "8NQ2GhvBqoSQ"
      },
      "source": [
        ""
      ],
      "execution_count": null,
      "outputs": []
    }
  ]
}
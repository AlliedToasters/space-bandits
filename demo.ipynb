{
 "cells": [
  {
   "cell_type": "markdown",
   "metadata": {},
   "source": [
    "# Space Bandits Contextual Bandits Demo\n",
    "This notebook demonstrates the basic usage of Space Bandits. The package is currently in development. Install with:\n",
    "\n",
    "```\n",
    "git clone https://github.com/AlliedToasters/dev_bandits.git\n",
    "\n",
    "cd dev_bandits\n",
    "\n",
    "pip install -e .\n",
    "```\n",
    "\n",
    "## Build a Linear Model\n",
    "The simplest model in the packages maps contexts to expected rewards with linear coefficients. Use the model constructor function; you must specify the feature length (number of features per row) and the number of actions available."
   ]
  },
  {
   "cell_type": "code",
   "execution_count": 1,
   "metadata": {},
   "outputs": [
    {
     "name": "stderr",
     "output_type": "stream",
     "text": [
      "/home/alliedtoasters/miniconda3/envs/dev1/lib/python3.6/site-packages/h5py/__init__.py:36: FutureWarning: Conversion of the second argument of issubdtype from `float` to `np.floating` is deprecated. In future, it will be treated as `np.float64 == np.dtype(float).type`.\n",
      "  from ._conv import register_converters as _register_converters\n"
     ]
    }
   ],
   "source": [
    "from cbandits import init_linear_model\n",
    "\n",
    "num_actions = 5 #five actions\n",
    "context_dim = 10 #ten features\n",
    "\n",
    "model = init_linear_model(num_actions, context_dim)"
   ]
  },
  {
   "cell_type": "markdown",
   "metadata": {},
   "source": [
    "## Train the Model with .update() Method\n",
    "Use past examples of context, action, rewards to train the model. A context must have the dimension specified above; each training example must include one action (indexed from zero) and one associated reward."
   ]
  },
  {
   "cell_type": "code",
   "execution_count": 2,
   "metadata": {},
   "outputs": [
    {
     "name": "stdout",
     "output_type": "stream",
     "text": [
      "example context vector: \n",
      " [0.33209376 0.94569573 0.49106177 0.26366882 0.27001911 0.61302338\n",
      " 0.57737893 0.49921066 0.38959186 0.8496655 ]\n",
      "example action chosen: \n",
      " 2\n",
      "example reward associated with: \n",
      " 5\n"
     ]
    }
   ],
   "source": [
    "import numpy as np\n",
    "context = np.random.random((10))\n",
    "print('example context vector: \\n', context)\n",
    "action = 2\n",
    "print('example action chosen: \\n', action)\n",
    "reward = 5\n",
    "print('example reward associated with: \\n', reward)\n",
    "\n",
    "#here we update the model:\n",
    "model.update(context, action, reward)"
   ]
  },
  {
   "cell_type": "markdown",
   "metadata": {},
   "source": [
    "## Make Decisions with .action() Method\n",
    "\n",
    "After training the model, we can use the .action() method to map a given context to the action with the highest expected reward."
   ]
  },
  {
   "cell_type": "code",
   "execution_count": 3,
   "metadata": {},
   "outputs": [
    {
     "name": "stdout",
     "output_type": "stream",
     "text": [
      "new example context vector: \n",
      " [0.33209376 0.94569573 0.49106177 0.26366882 0.27001911 0.61302338\n",
      " 0.57737893 0.49921066 0.38959186 0.8496655 ]\n",
      "model suggested action: \n",
      "1\n"
     ]
    }
   ],
   "source": [
    "new_context = np.random.random((10))\n",
    "print('new example context vector: \\n', context)\n",
    "\n",
    "print('model suggested action: ')\n",
    "print(model.action(new_context))"
   ]
  },
  {
   "cell_type": "markdown",
   "metadata": {},
   "source": [
    "## Expected Values\n"
   ]
  },
  {
   "cell_type": "markdown",
   "metadata": {},
   "source": [
    "## Advanced Parameters\n",
    "### Memory Management\n",
    "The model keeps a record of all previous examples; this is useful for updating, but it's impractical in ongoing production scenarios. To limit the model's memory, specify the number of previous examples to \"remember\" using the memory_size argument.\n",
    "\n",
    "```python\n",
    "model = init_linear_model(num_actions, context_dim, memory_size=1000000)\n",
    "```\n",
    "\n",
    "The above specifies that the model only keep a running record of the last 1000000 updates.\n",
    "\n",
    "### Initial Exploration\n",
    "Thompson sampling gives us continuous, intelligent exploration throughout the model's lifetime. However, initial exploration can be very helpful for encouraging model convergence, especially with a cold start. Use the initial_pulls argument to force the model to explore before using Thompson sampling. The model will sequentially try each action initial_pulls number of times; this results in initial_pulls * n_actions exploratory actions.\n",
    "\n",
    "```python\n",
    "model = init_linear_model(num_actions, context_dim, initial_pulls=2)\n",
    "```\n",
    "\n",
    "The above will result in the model suggesting each action 2 times before using Thompson sampling to suggest actions.\n",
    "\n",
    "### Saving Your Model\n",
    "Each cbandits model has a .save() method. Use it to save models for later use."
   ]
  },
  {
   "cell_type": "code",
   "execution_count": 4,
   "metadata": {},
   "outputs": [],
   "source": [
    "model.save('my_saved_model') #save to file my_saved_model\n",
    "\n",
    "from cbandits import load_linear_model\n",
    "\n",
    "model = load_linear_model('my_saved_model') #load from same location"
   ]
  },
  {
   "cell_type": "markdown",
   "metadata": {},
   "source": [
    "## Building a Neural Model\n",
    "\n",
    "Linear models are powerful but inherently limited. The Neural-Linear Bayesian Contextual Bandits model, which was named and explored in the 2018 research paper [Deep Bayesian Bandits Showdown: An Empirical Comparison of Bayesian Deep Networks for Thompson Sampling](https://arxiv.org/pdf/1802.09127.pdf), uses a neural network to give the model a powerful way to map a feature vector to a latent representational feature space. These learned features are used in a standard linear model identical to the one used above.<br><br>\n",
    "Cbandits lets us deploy the same model with the API as above. In practice, optimizing the model is somewhat complicated; the neural network adds a huge number of hyperparameters to the model. Cbandits uses the default parameters used in the research paper to give users a nice starting point."
   ]
  },
  {
   "cell_type": "code",
   "execution_count": 5,
   "metadata": {},
   "outputs": [
    {
     "data": {
      "text/plain": [
       "[0.0, 0.0, 4.720375992904131, 0.0, 0.0]"
      ]
     },
     "execution_count": 5,
     "metadata": {},
     "output_type": "execute_result"
    }
   ],
   "source": [
    "model.expected_values(context)"
   ]
  },
  {
   "cell_type": "code",
   "execution_count": null,
   "metadata": {},
   "outputs": [],
   "source": []
  }
 ],
 "metadata": {
  "kernelspec": {
   "display_name": "Python [conda env:dev1]",
   "language": "python",
   "name": "conda-env-dev1-py"
  },
  "language_info": {
   "codemirror_mode": {
    "name": "ipython",
    "version": 3
   },
   "file_extension": ".py",
   "mimetype": "text/x-python",
   "name": "python",
   "nbconvert_exporter": "python",
   "pygments_lexer": "ipython3",
   "version": "3.6.4"
  }
 },
 "nbformat": 4,
 "nbformat_minor": 2
}
